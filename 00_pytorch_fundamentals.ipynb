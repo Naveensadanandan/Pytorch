{
  "nbformat": 4,
  "nbformat_minor": 0,
  "metadata": {
    "colab": {
      "provenance": [],
      "gpuType": "T4",
      "include_colab_link": true
    },
    "kernelspec": {
      "name": "python3",
      "display_name": "Python 3"
    },
    "language_info": {
      "name": "python"
    },
    "accelerator": "GPU"
  },
  "cells": [
    {
      "cell_type": "markdown",
      "metadata": {
        "id": "view-in-github",
        "colab_type": "text"
      },
      "source": [
        "<a href=\"https://colab.research.google.com/github/Naveensadanandan/Pytorch/blob/main/pytorch_fundamentals.ipynb\" target=\"_parent\"><img src=\"https://colab.research.google.com/assets/colab-badge.svg\" alt=\"Open In Colab\"/></a>"
      ]
    },
    {
      "cell_type": "code",
      "execution_count": 1,
      "metadata": {
        "colab": {
          "base_uri": "https://localhost:8080/",
          "height": 36
        },
        "id": "DFrK_sn-pQ49",
        "outputId": "baabef32-0db2-4ccb-e4b6-fdb037c92c86"
      },
      "outputs": [
        {
          "output_type": "execute_result",
          "data": {
            "text/plain": [
              "'2.3.1+cu121'"
            ],
            "application/vnd.google.colaboratory.intrinsic+json": {
              "type": "string"
            }
          },
          "metadata": {},
          "execution_count": 1
        }
      ],
      "source": [
        "import torch\n",
        "torch.__version__"
      ]
    },
    {
      "cell_type": "code",
      "source": [
        "#creating a scalar\n",
        "scalar = torch.tensor(5)\n",
        "print(scalar)\n",
        "print(scalar.ndim)\n",
        "print(scalar.item())"
      ],
      "metadata": {
        "colab": {
          "base_uri": "https://localhost:8080/"
        },
        "id": "C4LTDwtHqMsg",
        "outputId": "06565874-75e7-4b24-9557-9ededf6a24aa"
      },
      "execution_count": 2,
      "outputs": [
        {
          "output_type": "stream",
          "name": "stdout",
          "text": [
            "tensor(5)\n",
            "0\n",
            "5\n"
          ]
        }
      ]
    },
    {
      "cell_type": "code",
      "source": [
        "#creating a vector\n",
        "vector = torch.tensor([5,5])\n",
        "print(vector)\n",
        "print(vector.ndim)\n",
        "print(vector.shape) #size and dim is different"
      ],
      "metadata": {
        "colab": {
          "base_uri": "https://localhost:8080/"
        },
        "id": "SkKfuHZVruAi",
        "outputId": "15e1c140-53fe-4244-c556-c4bc9d41cd50"
      },
      "execution_count": 3,
      "outputs": [
        {
          "output_type": "stream",
          "name": "stdout",
          "text": [
            "tensor([5, 5])\n",
            "1\n",
            "torch.Size([2])\n"
          ]
        }
      ]
    },
    {
      "cell_type": "code",
      "source": [
        "#Matrix\n",
        "\n",
        "MATRIX = torch.tensor([[1,2],[2,3]])\n",
        "print(MATRIX)\n",
        "print(MATRIX.ndim)\n",
        "print(MATRIX.shape)"
      ],
      "metadata": {
        "colab": {
          "base_uri": "https://localhost:8080/"
        },
        "id": "h7VC32qBsK6j",
        "outputId": "5b8fee20-e370-474f-d311-9a1815e7ed43"
      },
      "execution_count": 4,
      "outputs": [
        {
          "output_type": "stream",
          "name": "stdout",
          "text": [
            "tensor([[1, 2],\n",
            "        [2, 3]])\n",
            "2\n",
            "torch.Size([2, 2])\n"
          ]
        }
      ]
    },
    {
      "cell_type": "code",
      "source": [
        "#tensor\n",
        "tensor_3d = torch.tensor([[[1, 2, 3], [4, 5, 6]], [[7, 8, 9], [10, 11, 12]],[[7, 8, 92], [10, 112, 12]]])\n",
        "print(\"3D Tensor:\")\n",
        "print(tensor_3d)"
      ],
      "metadata": {
        "colab": {
          "base_uri": "https://localhost:8080/"
        },
        "id": "mBhutV9CtR6O",
        "outputId": "974f4998-aadf-419f-d1ba-bd5ec612cf8d"
      },
      "execution_count": 5,
      "outputs": [
        {
          "output_type": "stream",
          "name": "stdout",
          "text": [
            "3D Tensor:\n",
            "tensor([[[  1,   2,   3],\n",
            "         [  4,   5,   6]],\n",
            "\n",
            "        [[  7,   8,   9],\n",
            "         [ 10,  11,  12]],\n",
            "\n",
            "        [[  7,   8,  92],\n",
            "         [ 10, 112,  12]]])\n"
          ]
        }
      ]
    },
    {
      "cell_type": "code",
      "source": [
        "#selecting a specific element from tensor\n",
        "tensor_3d[2,1,1]"
      ],
      "metadata": {
        "colab": {
          "base_uri": "https://localhost:8080/"
        },
        "id": "SxliFAm-t6GL",
        "outputId": "47292f54-6b31-4d28-aa64-a050c56d63b7"
      },
      "execution_count": 6,
      "outputs": [
        {
          "output_type": "execute_result",
          "data": {
            "text/plain": [
              "tensor(112)"
            ]
          },
          "metadata": {},
          "execution_count": 6
        }
      ]
    },
    {
      "cell_type": "code",
      "source": [
        "#creating random tensors\n",
        "random_tensor = torch.rand(size = (1,4,4))\n",
        "print(random_tensor.ndim, random_tensor.shape)\n"
      ],
      "metadata": {
        "colab": {
          "base_uri": "https://localhost:8080/"
        },
        "id": "k9jLlN24rrw3",
        "outputId": "39eb0e05-50e2-452a-b5de-048cdfe97474"
      },
      "execution_count": 7,
      "outputs": [
        {
          "output_type": "stream",
          "name": "stdout",
          "text": [
            "3 torch.Size([1, 4, 4])\n"
          ]
        }
      ]
    },
    {
      "cell_type": "code",
      "source": [
        "#zeros and ones\n",
        "print(torch.zeros(3,4))\n",
        "print(torch.ones(3,4))"
      ],
      "metadata": {
        "colab": {
          "base_uri": "https://localhost:8080/"
        },
        "id": "OKsybyPZvZsN",
        "outputId": "ff09918f-bade-40c8-8fac-1dc3ae449b37"
      },
      "execution_count": 8,
      "outputs": [
        {
          "output_type": "stream",
          "name": "stdout",
          "text": [
            "tensor([[0., 0., 0., 0.],\n",
            "        [0., 0., 0., 0.],\n",
            "        [0., 0., 0., 0.]])\n",
            "tensor([[1., 1., 1., 1.],\n",
            "        [1., 1., 1., 1.],\n",
            "        [1., 1., 1., 1.]])\n"
          ]
        }
      ]
    },
    {
      "cell_type": "code",
      "source": [
        "#Range in tensors\n",
        "\n",
        "a = torch.arange(start=1, end=11, step=2)\n",
        "b = torch.zeros_like(a)\n",
        "print(a,b)"
      ],
      "metadata": {
        "colab": {
          "base_uri": "https://localhost:8080/"
        },
        "id": "J1LCGvu2wqMH",
        "outputId": "97af9a13-1712-4b69-a7b3-1a22f63d789e"
      },
      "execution_count": 9,
      "outputs": [
        {
          "output_type": "stream",
          "name": "stdout",
          "text": [
            "tensor([1, 3, 5, 7, 9]) tensor([0, 0, 0, 0, 0])\n"
          ]
        }
      ]
    },
    {
      "cell_type": "code",
      "source": [
        "#dtypes in tensors\n",
        "a.dtype"
      ],
      "metadata": {
        "colab": {
          "base_uri": "https://localhost:8080/"
        },
        "id": "6BXdWAT6w6nK",
        "outputId": "4e8e1696-a78b-4ad9-90a9-f2ea07acf0d6"
      },
      "execution_count": 10,
      "outputs": [
        {
          "output_type": "execute_result",
          "data": {
            "text/plain": [
              "torch.int64"
            ]
          },
          "metadata": {},
          "execution_count": 10
        }
      ]
    },
    {
      "cell_type": "code",
      "source": [
        "tensor_32 = torch.tensor([2.0,3.0,4.0])\n",
        "tensor_32.dtype"
      ],
      "metadata": {
        "colab": {
          "base_uri": "https://localhost:8080/"
        },
        "id": "NvR2NhamzWJn",
        "outputId": "6b70708f-757c-48a3-9222-06bbc29eb1d4"
      },
      "execution_count": 11,
      "outputs": [
        {
          "output_type": "execute_result",
          "data": {
            "text/plain": [
              "torch.float32"
            ]
          },
          "metadata": {},
          "execution_count": 11
        }
      ]
    },
    {
      "cell_type": "code",
      "source": [
        "tensor_16 = random_tensor.type(torch.float16)\n",
        "tensor_16.dtype"
      ],
      "metadata": {
        "colab": {
          "base_uri": "https://localhost:8080/"
        },
        "id": "vu9Qy539zgdR",
        "outputId": "4145e4ad-c7ea-41ec-97a9-f7680e29f68f"
      },
      "execution_count": 12,
      "outputs": [
        {
          "output_type": "execute_result",
          "data": {
            "text/plain": [
              "torch.float16"
            ]
          },
          "metadata": {},
          "execution_count": 12
        }
      ]
    },
    {
      "cell_type": "code",
      "source": [
        "# Default datatype for tensors is float32\n",
        "float_32_tensor = torch.tensor([3.0, 6.0, 9.0],\n",
        "                               dtype=None, # defaults to None, which is torch.float32 or whatever datatype is passed\n",
        "                               device=None, # defaults to None, which uses the default tensor type\n",
        "                               requires_grad=False) # if True, operations performed on the tensor are recorded\n",
        "\n",
        "float_32_tensor.shape, float_32_tensor.dtype, float_32_tensor.device"
      ],
      "metadata": {
        "colab": {
          "base_uri": "https://localhost:8080/"
        },
        "id": "v9fQyKkg0FWl",
        "outputId": "f0956506-b888-4df9-8851-89a4613ee24c"
      },
      "execution_count": 13,
      "outputs": [
        {
          "output_type": "execute_result",
          "data": {
            "text/plain": [
              "(torch.Size([3]), torch.float32, device(type='cpu'))"
            ]
          },
          "metadata": {},
          "execution_count": 13
        }
      ]
    },
    {
      "cell_type": "code",
      "source": [
        "torch.mul(tensor_32, float_32_tensor)"
      ],
      "metadata": {
        "colab": {
          "base_uri": "https://localhost:8080/"
        },
        "id": "QeZMR5NX0tZL",
        "outputId": "2e385fbb-f717-4af0-d7a8-d32ab1fa916b"
      },
      "execution_count": 14,
      "outputs": [
        {
          "output_type": "execute_result",
          "data": {
            "text/plain": [
              "tensor([ 6., 18., 36.])"
            ]
          },
          "metadata": {},
          "execution_count": 14
        }
      ]
    },
    {
      "cell_type": "code",
      "source": [
        "#Getting information from tensors using tensor attributes\n",
        "some_tensor = torch.rand(3,4)\n",
        "print(f\"Datatype of tensor : {some_tensor.dtype}\")\n",
        "print(f\"device of tensor : {some_tensor.device}\")\n",
        "print(f\"shape of tensor : {some_tensor.shape}\")"
      ],
      "metadata": {
        "colab": {
          "base_uri": "https://localhost:8080/"
        },
        "id": "2-KZGyg404nM",
        "outputId": "91284cac-6a80-465d-9dfa-9bff7cdb9f4a"
      },
      "execution_count": 15,
      "outputs": [
        {
          "output_type": "stream",
          "name": "stdout",
          "text": [
            "Datatype of tensor : torch.float32\n",
            "device of tensor : cpu\n",
            "shape of tensor : torch.Size([3, 4])\n"
          ]
        }
      ]
    },
    {
      "cell_type": "code",
      "source": [
        "#Manipulating tensors\n",
        "\n",
        "tensor_1 = torch.tensor([[3,4],[5,6]])\n",
        "tensor_2 = torch.tensor([[3,4],[3,8]])\n",
        "print(tensor_1)\n",
        "print(tensor_2)"
      ],
      "metadata": {
        "colab": {
          "base_uri": "https://localhost:8080/"
        },
        "id": "0TuKqEgs3I5P",
        "outputId": "cfaea957-5efa-4b5c-92b4-9c764d1244a8"
      },
      "execution_count": 16,
      "outputs": [
        {
          "output_type": "stream",
          "name": "stdout",
          "text": [
            "tensor([[3, 4],\n",
            "        [5, 6]])\n",
            "tensor([[3, 4],\n",
            "        [3, 8]])\n"
          ]
        }
      ]
    },
    {
      "cell_type": "code",
      "source": [
        "#Addition and substraction\n",
        "print(tensor_1 + 10)\n",
        "print(tensor_1 - tensor_2)"
      ],
      "metadata": {
        "colab": {
          "base_uri": "https://localhost:8080/"
        },
        "id": "qe4kVAYx4pCc",
        "outputId": "c265b79b-30cc-43d8-9937-a1dd4cf582c6"
      },
      "execution_count": 17,
      "outputs": [
        {
          "output_type": "stream",
          "name": "stdout",
          "text": [
            "tensor([[13, 14],\n",
            "        [15, 16]])\n",
            "tensor([[ 0,  0],\n",
            "        [ 2, -2]])\n"
          ]
        }
      ]
    },
    {
      "cell_type": "code",
      "source": [
        "#Multipication element wise\n",
        "torch.mul(tensor_1, tensor_2)"
      ],
      "metadata": {
        "colab": {
          "base_uri": "https://localhost:8080/"
        },
        "id": "-oS_hoGq4rOE",
        "outputId": "2ec1cbc3-6fef-46b2-fa18-80d58c01825a"
      },
      "execution_count": 18,
      "outputs": [
        {
          "output_type": "execute_result",
          "data": {
            "text/plain": [
              "tensor([[ 9, 16],\n",
              "        [15, 48]])"
            ]
          },
          "metadata": {},
          "execution_count": 18
        }
      ]
    },
    {
      "cell_type": "code",
      "source": [
        "#Matrix Mul\n",
        "torch.matmul(tensor_1,tensor_2)"
      ],
      "metadata": {
        "colab": {
          "base_uri": "https://localhost:8080/"
        },
        "id": "GE8RBbEl5Yvz",
        "outputId": "6ea1bc70-b191-4fcc-ba4e-ae317813c689"
      },
      "execution_count": 19,
      "outputs": [
        {
          "output_type": "execute_result",
          "data": {
            "text/plain": [
              "tensor([[21, 44],\n",
              "        [33, 68]])"
            ]
          },
          "metadata": {},
          "execution_count": 19
        }
      ]
    },
    {
      "cell_type": "code",
      "source": [
        "#Tensor aggregation\n",
        "print(f\"max : {torch.max(tensor_1)}\")\n",
        "print(f\"min : {torch.min(tensor_1)}\")\n",
        "print(f\"mean : {torch.mean(tensor_1.type(torch.float32))}\") # since tensor mean is only supported in float and complex dtype"
      ],
      "metadata": {
        "colab": {
          "base_uri": "https://localhost:8080/"
        },
        "id": "5T25ONae5inD",
        "outputId": "01af238d-a749-4650-b797-3a59ff35d21f"
      },
      "execution_count": 20,
      "outputs": [
        {
          "output_type": "stream",
          "name": "stdout",
          "text": [
            "max : 6\n",
            "min : 3\n",
            "mean : 4.5\n"
          ]
        }
      ]
    },
    {
      "cell_type": "code",
      "source": [
        "#position of max and min value\n",
        "tensor_1 = torch.rand(4,4)\n",
        "tensor_2 = torch.arange(0,21)\n",
        "print(tensor_1)\n",
        "print(tensor_2)\n",
        "print(f\"position of max in tensor_1 : {torch.argmax(tensor_1)}\")\n",
        "print(f\"position of min in tensor_1 : {torch.argmin(tensor_1)}\")\n",
        "print(f\"position of max in tensor_2 : {torch.argmax(tensor_2)}\")\n",
        "print(f\"position of min in tensor_2 : {torch.argmin(tensor_2)}\")\n"
      ],
      "metadata": {
        "colab": {
          "base_uri": "https://localhost:8080/"
        },
        "id": "TXUmo_WpA3Uz",
        "outputId": "f3b06d41-4b07-4cc0-d97b-85c98b08caca"
      },
      "execution_count": 21,
      "outputs": [
        {
          "output_type": "stream",
          "name": "stdout",
          "text": [
            "tensor([[0.6841, 0.2131, 0.2214, 0.8127],\n",
            "        [0.9903, 0.0073, 0.4831, 0.0680],\n",
            "        [0.0669, 0.7832, 0.2713, 0.0664],\n",
            "        [0.9335, 0.0145, 0.7911, 0.0151]])\n",
            "tensor([ 0,  1,  2,  3,  4,  5,  6,  7,  8,  9, 10, 11, 12, 13, 14, 15, 16, 17,\n",
            "        18, 19, 20])\n",
            "position of max in tensor_1 : 4\n",
            "position of min in tensor_1 : 5\n",
            "position of max in tensor_2 : 20\n",
            "position of min in tensor_2 : 0\n"
          ]
        }
      ]
    },
    {
      "cell_type": "code",
      "source": [
        "#Reshaping,stacking,squeezing\n",
        "print(tensor_1)\n",
        "print(tensor_1.reshape(8,2))\n",
        "print(torch.stack([tensor_1,tensor_1], dim = 0)) #dim = 1or0"
      ],
      "metadata": {
        "colab": {
          "base_uri": "https://localhost:8080/"
        },
        "id": "m34ic1JBBech",
        "outputId": "350c387d-9db3-4326-a706-4f7cf27d0fb0"
      },
      "execution_count": 22,
      "outputs": [
        {
          "output_type": "stream",
          "name": "stdout",
          "text": [
            "tensor([[0.6841, 0.2131, 0.2214, 0.8127],\n",
            "        [0.9903, 0.0073, 0.4831, 0.0680],\n",
            "        [0.0669, 0.7832, 0.2713, 0.0664],\n",
            "        [0.9335, 0.0145, 0.7911, 0.0151]])\n",
            "tensor([[0.6841, 0.2131],\n",
            "        [0.2214, 0.8127],\n",
            "        [0.9903, 0.0073],\n",
            "        [0.4831, 0.0680],\n",
            "        [0.0669, 0.7832],\n",
            "        [0.2713, 0.0664],\n",
            "        [0.9335, 0.0145],\n",
            "        [0.7911, 0.0151]])\n",
            "tensor([[[0.6841, 0.2131, 0.2214, 0.8127],\n",
            "         [0.9903, 0.0073, 0.4831, 0.0680],\n",
            "         [0.0669, 0.7832, 0.2713, 0.0664],\n",
            "         [0.9335, 0.0145, 0.7911, 0.0151]],\n",
            "\n",
            "        [[0.6841, 0.2131, 0.2214, 0.8127],\n",
            "         [0.9903, 0.0073, 0.4831, 0.0680],\n",
            "         [0.0669, 0.7832, 0.2713, 0.0664],\n",
            "         [0.9335, 0.0145, 0.7911, 0.0151]]])\n"
          ]
        }
      ]
    },
    {
      "cell_type": "code",
      "source": [
        "x = torch.zeros(2,1,2,1,2)\n",
        "y = torch.squeeze(x) #Squeezes input to remove all the dimenions with value 1.\n",
        "print(f\"previous shape : {x.shape}\")\n",
        "print(f\"new shape : {y.shape}\")"
      ],
      "metadata": {
        "colab": {
          "base_uri": "https://localhost:8080/"
        },
        "id": "cfn3auvMGlXw",
        "outputId": "1e395a2f-3fa3-47f1-968c-811fe44764d1"
      },
      "execution_count": 23,
      "outputs": [
        {
          "output_type": "stream",
          "name": "stdout",
          "text": [
            "previous shape : torch.Size([2, 1, 2, 1, 2])\n",
            "new shape : torch.Size([2, 2, 2])\n"
          ]
        }
      ]
    },
    {
      "cell_type": "code",
      "source": [
        "x = torch.zeros(2,2,2)\n",
        "y = torch.unsqueeze(x,0) #Returns input with a dimension value of 1 added at dim.\n",
        "print(f\"previous shape : {x.shape}\")\n",
        "print(f\"new shape : {y.shape}\")"
      ],
      "metadata": {
        "colab": {
          "base_uri": "https://localhost:8080/"
        },
        "id": "dpnpEgCkHGIw",
        "outputId": "decede5b-dea0-443c-f01b-b577224033a9"
      },
      "execution_count": 24,
      "outputs": [
        {
          "output_type": "stream",
          "name": "stdout",
          "text": [
            "previous shape : torch.Size([2, 2, 2])\n",
            "new shape : torch.Size([1, 2, 2, 2])\n"
          ]
        }
      ]
    },
    {
      "cell_type": "code",
      "source": [
        "#torch.permute rearrange the dimension of a tensor in a specific order\n",
        "\n",
        "tensor = torch.rand(size = (224,224,3))\n",
        "tensor_permuted = torch.permute(tensor,(2, 0, 1))\n",
        "print(f\"The size of permuted tensor is {tensor_permuted.shape}\")"
      ],
      "metadata": {
        "id": "5CgEyU30KBTh",
        "colab": {
          "base_uri": "https://localhost:8080/"
        },
        "outputId": "8ead20a5-9df8-4fd8-c715-fd7b36983465"
      },
      "execution_count": 28,
      "outputs": [
        {
          "output_type": "stream",
          "name": "stdout",
          "text": [
            "The size of permuted tensor is torch.Size([3, 224, 224])\n"
          ]
        }
      ]
    },
    {
      "cell_type": "code",
      "source": [
        "#changing a element in tensor\n",
        "print(tensor[1,1,1])\n",
        "tensor[1,1,1] = 0.5\n",
        "tensor[1,1,1]"
      ],
      "metadata": {
        "colab": {
          "base_uri": "https://localhost:8080/"
        },
        "id": "EwqlspLH6yny",
        "outputId": "69500df6-caf8-4e12-e22a-aac2d8a3eab4"
      },
      "execution_count": 29,
      "outputs": [
        {
          "output_type": "stream",
          "name": "stdout",
          "text": [
            "tensor(0.8410)\n"
          ]
        },
        {
          "output_type": "execute_result",
          "data": {
            "text/plain": [
              "tensor(0.5000)"
            ]
          },
          "metadata": {},
          "execution_count": 29
        }
      ]
    },
    {
      "cell_type": "code",
      "source": [
        "#Indexing\n",
        "tensor = torch.arange(1, 10).reshape(shape = (1, 3, 3))\n",
        "tensor, tensor.shape"
      ],
      "metadata": {
        "colab": {
          "base_uri": "https://localhost:8080/"
        },
        "id": "4zt54_Yl7fQ4",
        "outputId": "b74c43b8-4026-422c-9bbf-871f4df290a3"
      },
      "execution_count": 32,
      "outputs": [
        {
          "output_type": "execute_result",
          "data": {
            "text/plain": [
              "(tensor([[[1, 2, 3],\n",
              "          [4, 5, 6],\n",
              "          [7, 8, 9]]]),\n",
              " torch.Size([1, 3, 3]))"
            ]
          },
          "metadata": {},
          "execution_count": 32
        }
      ]
    },
    {
      "cell_type": "code",
      "source": [
        " #select only first element\n",
        "print(f\"first element : {tensor[0][0][0]}\")\n",
        "print(f\"second element : {tensor[0][0][1]}\")\n",
        "print(f\"first row : {tensor[0][0][:]}\")\n",
        "print(f\"secong column : {tensor[0,:,1]}\")"
      ],
      "metadata": {
        "colab": {
          "base_uri": "https://localhost:8080/"
        },
        "id": "yHZVc7Vi9dID",
        "outputId": "3488267d-d511-4fe6-8563-083264fa62dd"
      },
      "execution_count": 41,
      "outputs": [
        {
          "output_type": "stream",
          "name": "stdout",
          "text": [
            "first element : 1\n",
            "second element : 2\n",
            "first row : tensor([1, 2, 3])\n",
            "secong column : tensor([2, 5, 8])\n"
          ]
        }
      ]
    },
    {
      "cell_type": "code",
      "source": [
        "#pytorch tensor to numpy\n",
        "import torch\n",
        "import numpy as np\n",
        "tensor = torch.arange(1.0,10.0)\n",
        "array = tensor.numpy()\n",
        "print(tensor)\n",
        "print(array)\n",
        "print(f\"data type of numpy array is {array.dtype}\")"
      ],
      "metadata": {
        "colab": {
          "base_uri": "https://localhost:8080/"
        },
        "id": "ds_5OxN09xTs",
        "outputId": "dd2bee27-dff9-41ff-8ce3-17bf75ee6f1e"
      },
      "execution_count": 2,
      "outputs": [
        {
          "output_type": "stream",
          "name": "stdout",
          "text": [
            "tensor([1., 2., 3., 4., 5., 6., 7., 8., 9.])\n",
            "[1. 2. 3. 4. 5. 6. 7. 8. 9.]\n",
            "data type of numpy array is float32\n"
          ]
        }
      ]
    },
    {
      "cell_type": "code",
      "source": [
        "array = np.arange(1.0,10.0)\n",
        "tensor = torch.from_numpy(array)\n",
        "tensor_32 = tensor.type(torch.float32)\n",
        "print(array)\n",
        "print(tensor)\n",
        "print(f\"data type of tensor is {tensor.dtype}\")\n",
        "print(f\"data type of tensor_32 is {tensor_32.dtype}\")\n",
        "#tensor defualt datatype is float32 but convertion cause it to be float 64 until specified"
      ],
      "metadata": {
        "colab": {
          "base_uri": "https://localhost:8080/"
        },
        "id": "offoXoELE0rV",
        "outputId": "bdf37450-7046-4cea-ba21-dc475ef1e3d3"
      },
      "execution_count": 6,
      "outputs": [
        {
          "output_type": "stream",
          "name": "stdout",
          "text": [
            "[1. 2. 3. 4. 5. 6. 7. 8. 9.]\n",
            "tensor([1., 2., 3., 4., 5., 6., 7., 8., 9.], dtype=torch.float64)\n",
            "data type of tensor is torch.float64\n",
            "data type of tensor_32 is torch.float32\n"
          ]
        }
      ]
    },
    {
      "cell_type": "code",
      "source": [
        "#Reproducing tensors\n",
        "RANDOM_SEED = 42\n",
        "torch.manual_seed(RANDOM_SEED)\n",
        "torch.rand(3,4) # if you run this cell even multiple times we will get same random numbers"
      ],
      "metadata": {
        "colab": {
          "base_uri": "https://localhost:8080/"
        },
        "id": "1J8aaYipGCOX",
        "outputId": "0ec5148c-cd67-4ba3-c499-7058f27c0e83"
      },
      "execution_count": 8,
      "outputs": [
        {
          "output_type": "execute_result",
          "data": {
            "text/plain": [
              "tensor([[0.8823, 0.9150, 0.3829, 0.9593],\n",
              "        [0.3904, 0.6009, 0.2566, 0.7936],\n",
              "        [0.9408, 0.1332, 0.9346, 0.5936]])"
            ]
          },
          "metadata": {},
          "execution_count": 8
        }
      ]
    },
    {
      "cell_type": "code",
      "source": [
        "import torch\n",
        "torch.cuda.is_available()"
      ],
      "metadata": {
        "colab": {
          "base_uri": "https://localhost:8080/"
        },
        "id": "4zO-GkuQOCLL",
        "outputId": "a9a69f08-5d62-4e55-ecfd-59d279386aa5"
      },
      "execution_count": 2,
      "outputs": [
        {
          "output_type": "execute_result",
          "data": {
            "text/plain": [
              "True"
            ]
          },
          "metadata": {},
          "execution_count": 2
        }
      ]
    },
    {
      "cell_type": "code",
      "source": [
        "#setup device agnostic code\n",
        "device = \"cuda\" if torch.cuda.is_available() else \"cpu\"\n",
        "device"
      ],
      "metadata": {
        "colab": {
          "base_uri": "https://localhost:8080/",
          "height": 36
        },
        "id": "ncLbwIkl4rN8",
        "outputId": "71fed5a0-5d61-4a97-c1c4-26f723cee38b"
      },
      "execution_count": 3,
      "outputs": [
        {
          "output_type": "execute_result",
          "data": {
            "text/plain": [
              "'cuda'"
            ],
            "application/vnd.google.colaboratory.intrinsic+json": {
              "type": "string"
            }
          },
          "metadata": {},
          "execution_count": 3
        }
      ]
    },
    {
      "cell_type": "code",
      "source": [
        "#tensor to gpu\n",
        "tensor = torch.tensor([1,23,3])\n",
        "print(tensor, tensor.device)\n",
        "\n",
        "tensor_gpu = tensor.to(device)\n",
        "print(tensor_gpu, tensor_gpu.device)\n"
      ],
      "metadata": {
        "colab": {
          "base_uri": "https://localhost:8080/"
        },
        "id": "ZUJMn6yx5EUX",
        "outputId": "13efa2ae-a2b9-4623-d3d7-f4a06aafacbd"
      },
      "execution_count": 5,
      "outputs": [
        {
          "output_type": "stream",
          "name": "stdout",
          "text": [
            "tensor([ 1, 23,  3]) cpu\n",
            "tensor([ 1, 23,  3], device='cuda:0') cuda:0\n"
          ]
        }
      ]
    },
    {
      "cell_type": "code",
      "source": [
        "#tensor back to cpu\n",
        "# If tensor is on GPU, can't transform it to NumPy (this will error)\n",
        "tensor_gpu.numpy()"
      ],
      "metadata": {
        "colab": {
          "base_uri": "https://localhost:8080/",
          "height": 176
        },
        "id": "KBHHbzit-g_S",
        "outputId": "5a4cb797-d5f9-43e2-fc17-139a1e7aed8b"
      },
      "execution_count": 7,
      "outputs": [
        {
          "output_type": "error",
          "ename": "TypeError",
          "evalue": "can't convert cuda:0 device type tensor to numpy. Use Tensor.cpu() to copy the tensor to host memory first.",
          "traceback": [
            "\u001b[0;31m---------------------------------------------------------------------------\u001b[0m",
            "\u001b[0;31mTypeError\u001b[0m                                 Traceback (most recent call last)",
            "\u001b[0;32m<ipython-input-7-919f3c7585a7>\u001b[0m in \u001b[0;36m<cell line: 3>\u001b[0;34m()\u001b[0m\n\u001b[1;32m      1\u001b[0m \u001b[0;31m#tensor back to cpu\u001b[0m\u001b[0;34m\u001b[0m\u001b[0;34m\u001b[0m\u001b[0m\n\u001b[1;32m      2\u001b[0m \u001b[0;31m# If tensor is on GPU, can't transform it to NumPy (this will error)\u001b[0m\u001b[0;34m\u001b[0m\u001b[0;34m\u001b[0m\u001b[0m\n\u001b[0;32m----> 3\u001b[0;31m \u001b[0mtensor_gpu\u001b[0m\u001b[0;34m.\u001b[0m\u001b[0mnumpy\u001b[0m\u001b[0;34m(\u001b[0m\u001b[0;34m)\u001b[0m\u001b[0;34m\u001b[0m\u001b[0;34m\u001b[0m\u001b[0m\n\u001b[0m",
            "\u001b[0;31mTypeError\u001b[0m: can't convert cuda:0 device type tensor to numpy. Use Tensor.cpu() to copy the tensor to host memory first."
          ]
        }
      ]
    },
    {
      "cell_type": "code",
      "source": [
        "# Instead, copy the tensor back to cpu\n",
        "tensor_back_on_cpu = tensor_gpu.cpu().numpy()\n",
        "tensor_back_on_cpu"
      ],
      "metadata": {
        "colab": {
          "base_uri": "https://localhost:8080/"
        },
        "id": "Y6DjLNlb-xdk",
        "outputId": "3b63086e-ce5e-4a07-cc82-b66f6f795be9"
      },
      "execution_count": 8,
      "outputs": [
        {
          "output_type": "execute_result",
          "data": {
            "text/plain": [
              "array([ 1, 23,  3])"
            ]
          },
          "metadata": {},
          "execution_count": 8
        }
      ]
    },
    {
      "cell_type": "code",
      "source": [],
      "metadata": {
        "id": "0f5NrZ82-9Kd"
      },
      "execution_count": null,
      "outputs": []
    }
  ]
}
