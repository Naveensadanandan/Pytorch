{
  "nbformat": 4,
  "nbformat_minor": 0,
  "metadata": {
    "colab": {
      "provenance": [],
      "include_colab_link": true
    },
    "kernelspec": {
      "name": "python3",
      "display_name": "Python 3"
    },
    "language_info": {
      "name": "python"
    }
  },
  "cells": [
    {
      "cell_type": "markdown",
      "metadata": {
        "id": "view-in-github",
        "colab_type": "text"
      },
      "source": [
        "<a href=\"https://colab.research.google.com/github/Naveensadanandan/Pytorch/blob/main/pytorch_fundamentals.ipynb\" target=\"_parent\"><img src=\"https://colab.research.google.com/assets/colab-badge.svg\" alt=\"Open In Colab\"/></a>"
      ]
    },
    {
      "cell_type": "code",
      "execution_count": null,
      "metadata": {
        "colab": {
          "base_uri": "https://localhost:8080/",
          "height": 36
        },
        "id": "DFrK_sn-pQ49",
        "outputId": "85566ef3-0b1d-4f2b-ec6e-b7d01be99e34"
      },
      "outputs": [
        {
          "output_type": "execute_result",
          "data": {
            "text/plain": [
              "'2.3.1+cu121'"
            ],
            "application/vnd.google.colaboratory.intrinsic+json": {
              "type": "string"
            }
          },
          "metadata": {},
          "execution_count": 1
        }
      ],
      "source": [
        "import torch\n",
        "torch.__version__"
      ]
    },
    {
      "cell_type": "code",
      "source": [
        "#creating a scalar\n",
        "scalar = torch.tensor(5)\n",
        "print(scalar)\n",
        "print(scalar.ndim)\n",
        "print(scalar.item())"
      ],
      "metadata": {
        "colab": {
          "base_uri": "https://localhost:8080/"
        },
        "id": "C4LTDwtHqMsg",
        "outputId": "eef0d256-5e17-4987-a251-8cf84e1ff50b"
      },
      "execution_count": null,
      "outputs": [
        {
          "output_type": "stream",
          "name": "stdout",
          "text": [
            "tensor(5)\n",
            "0\n",
            "5\n"
          ]
        }
      ]
    },
    {
      "cell_type": "code",
      "source": [
        "#creating a vector\n",
        "vector = torch.tensor([5,5])\n",
        "print(vector)\n",
        "print(vector.ndim)\n",
        "print(vector.shape) #size and dim is different"
      ],
      "metadata": {
        "colab": {
          "base_uri": "https://localhost:8080/"
        },
        "id": "SkKfuHZVruAi",
        "outputId": "31b7c61e-7e94-4561-ff4b-a5d453a99deb"
      },
      "execution_count": null,
      "outputs": [
        {
          "output_type": "stream",
          "name": "stdout",
          "text": [
            "tensor([5, 5])\n",
            "1\n",
            "torch.Size([2])\n"
          ]
        }
      ]
    },
    {
      "cell_type": "code",
      "source": [
        "#Matrix\n",
        "\n",
        "MATRIX = torch.tensor([[1,2],[2,3]])\n",
        "print(MATRIX)\n",
        "print(MATRIX.ndim)\n",
        "print(MATRIX.shape)"
      ],
      "metadata": {
        "colab": {
          "base_uri": "https://localhost:8080/"
        },
        "id": "h7VC32qBsK6j",
        "outputId": "fe8d9e94-bc05-4953-b205-0d1b32bc07a0"
      },
      "execution_count": null,
      "outputs": [
        {
          "output_type": "stream",
          "name": "stdout",
          "text": [
            "tensor([[1, 2],\n",
            "        [2, 3]])\n",
            "2\n",
            "torch.Size([2, 2])\n"
          ]
        }
      ]
    },
    {
      "cell_type": "code",
      "source": [
        "#tensor\n",
        "tensor_3d = torch.tensor([[[1, 2, 3], [4, 5, 6]], [[7, 8, 9], [10, 11, 12]],[[7, 8, 92], [10, 112, 12]]])\n",
        "print(\"3D Tensor:\")\n",
        "print(tensor_3d)"
      ],
      "metadata": {
        "colab": {
          "base_uri": "https://localhost:8080/"
        },
        "id": "mBhutV9CtR6O",
        "outputId": "0ef8e04c-7d14-4cdb-fddc-b3903735a82b"
      },
      "execution_count": null,
      "outputs": [
        {
          "output_type": "stream",
          "name": "stdout",
          "text": [
            "3D Tensor:\n",
            "tensor([[[  1,   2,   3],\n",
            "         [  4,   5,   6]],\n",
            "\n",
            "        [[  7,   8,   9],\n",
            "         [ 10,  11,  12]],\n",
            "\n",
            "        [[  7,   8,  92],\n",
            "         [ 10, 112,  12]]])\n"
          ]
        }
      ]
    },
    {
      "cell_type": "code",
      "source": [
        "#selecting a specific element from tensor\n",
        "tensor_3d[2,1,1]"
      ],
      "metadata": {
        "colab": {
          "base_uri": "https://localhost:8080/"
        },
        "id": "SxliFAm-t6GL",
        "outputId": "a7c76bab-4e84-4ded-dbc5-9e17f7c6bb1b"
      },
      "execution_count": null,
      "outputs": [
        {
          "output_type": "execute_result",
          "data": {
            "text/plain": [
              "tensor(112)"
            ]
          },
          "metadata": {},
          "execution_count": 18
        }
      ]
    },
    {
      "cell_type": "code",
      "source": [
        "#creating random tensors\n",
        "random_tensor = torch.rand(size = (1,4,4))\n",
        "print(random_tensor.ndim, random_tensor.shape)\n"
      ],
      "metadata": {
        "colab": {
          "base_uri": "https://localhost:8080/"
        },
        "id": "k9jLlN24rrw3",
        "outputId": "3a4236cb-bdea-4b60-b7a8-8d3bd9d0f8f5"
      },
      "execution_count": null,
      "outputs": [
        {
          "output_type": "stream",
          "name": "stdout",
          "text": [
            "3 torch.Size([1, 4, 4])\n"
          ]
        }
      ]
    },
    {
      "cell_type": "code",
      "source": [
        "#zeros and ones\n",
        "print(torch.zeros(3,4))\n",
        "print(torch.ones(3,4))"
      ],
      "metadata": {
        "colab": {
          "base_uri": "https://localhost:8080/"
        },
        "id": "OKsybyPZvZsN",
        "outputId": "243b5f43-cb27-4f72-df3a-8a2d2fbe516e"
      },
      "execution_count": null,
      "outputs": [
        {
          "output_type": "stream",
          "name": "stdout",
          "text": [
            "tensor([[0., 0., 0., 0.],\n",
            "        [0., 0., 0., 0.],\n",
            "        [0., 0., 0., 0.]])\n",
            "tensor([[1., 1., 1., 1.],\n",
            "        [1., 1., 1., 1.],\n",
            "        [1., 1., 1., 1.]])\n"
          ]
        }
      ]
    },
    {
      "cell_type": "code",
      "source": [
        "#Range in tensors\n",
        "\n",
        "a = torch.arange(start=1, end=11, step=2)\n",
        "b = torch.zeros_like(a)\n",
        "print(a,b)"
      ],
      "metadata": {
        "colab": {
          "base_uri": "https://localhost:8080/"
        },
        "id": "J1LCGvu2wqMH",
        "outputId": "3ef5b8ac-c507-4c80-a82d-d0e313533d2f"
      },
      "execution_count": null,
      "outputs": [
        {
          "output_type": "stream",
          "name": "stdout",
          "text": [
            "tensor([1, 3, 5, 7, 9]) tensor([0, 0, 0, 0, 0])\n"
          ]
        }
      ]
    },
    {
      "cell_type": "code",
      "source": [
        "#dtypes in tensors\n",
        "a.dtype"
      ],
      "metadata": {
        "colab": {
          "base_uri": "https://localhost:8080/"
        },
        "id": "6BXdWAT6w6nK",
        "outputId": "5e24fa14-c412-45fa-fb02-e3c754a32264"
      },
      "execution_count": null,
      "outputs": [
        {
          "output_type": "execute_result",
          "data": {
            "text/plain": [
              "torch.int64"
            ]
          },
          "metadata": {},
          "execution_count": 36
        }
      ]
    },
    {
      "cell_type": "code",
      "source": [
        "tensor_32 = torch.tensor([2.0,3.0,4.0])\n",
        "tensor_32.dtype"
      ],
      "metadata": {
        "colab": {
          "base_uri": "https://localhost:8080/"
        },
        "id": "NvR2NhamzWJn",
        "outputId": "c02b5de0-fed4-4632-8ef5-450a94417ea6"
      },
      "execution_count": null,
      "outputs": [
        {
          "output_type": "execute_result",
          "data": {
            "text/plain": [
              "torch.float32"
            ]
          },
          "metadata": {},
          "execution_count": 43
        }
      ]
    },
    {
      "cell_type": "code",
      "source": [
        "tensor_16 = random_tensor.type(torch.float16)\n",
        "tensor_16.dtype"
      ],
      "metadata": {
        "colab": {
          "base_uri": "https://localhost:8080/"
        },
        "id": "vu9Qy539zgdR",
        "outputId": "66df3c57-04f4-42c3-8cff-2471fd899cf5"
      },
      "execution_count": null,
      "outputs": [
        {
          "output_type": "execute_result",
          "data": {
            "text/plain": [
              "torch.float16"
            ]
          },
          "metadata": {},
          "execution_count": 44
        }
      ]
    },
    {
      "cell_type": "code",
      "source": [
        "# Default datatype for tensors is float32\n",
        "float_32_tensor = torch.tensor([3.0, 6.0, 9.0],\n",
        "                               dtype=None, # defaults to None, which is torch.float32 or whatever datatype is passed\n",
        "                               device=None, # defaults to None, which uses the default tensor type\n",
        "                               requires_grad=False) # if True, operations performed on the tensor are recorded\n",
        "\n",
        "float_32_tensor.shape, float_32_tensor.dtype, float_32_tensor.device"
      ],
      "metadata": {
        "colab": {
          "base_uri": "https://localhost:8080/"
        },
        "id": "v9fQyKkg0FWl",
        "outputId": "cedd91e9-0e46-4ca0-886c-559bfb7d41e0"
      },
      "execution_count": null,
      "outputs": [
        {
          "output_type": "execute_result",
          "data": {
            "text/plain": [
              "(torch.Size([3]), torch.float32, device(type='cpu'))"
            ]
          },
          "metadata": {},
          "execution_count": 45
        }
      ]
    },
    {
      "cell_type": "code",
      "source": [
        "torch.mul(tensor_32, float_32_tensor)"
      ],
      "metadata": {
        "colab": {
          "base_uri": "https://localhost:8080/"
        },
        "id": "QeZMR5NX0tZL",
        "outputId": "74a8bf15-5a85-4549-a9ae-9908f1f70236"
      },
      "execution_count": null,
      "outputs": [
        {
          "output_type": "execute_result",
          "data": {
            "text/plain": [
              "tensor([ 6., 18., 36.])"
            ]
          },
          "metadata": {},
          "execution_count": 49
        }
      ]
    },
    {
      "cell_type": "code",
      "source": [
        "#Getting information from tensors using tensor attributes\n",
        "some_tensor = torch.rand(3,4)\n",
        "print(f\"Datatype of tensor : {some_tensor.dtype}\")\n",
        "print(f\"device of tensor : {some_tensor.device}\")\n",
        "print(f\"shape of tensor : {some_tensor.shape}\")"
      ],
      "metadata": {
        "colab": {
          "base_uri": "https://localhost:8080/"
        },
        "id": "2-KZGyg404nM",
        "outputId": "6a7f26a5-a84c-4dc8-a4eb-80a62498343c"
      },
      "execution_count": null,
      "outputs": [
        {
          "output_type": "stream",
          "name": "stdout",
          "text": [
            "Datatype of tensor : torch.float32\n",
            "device of tensor : cpu\n",
            "shape of tensor : torch.Size([3, 4])\n"
          ]
        }
      ]
    },
    {
      "cell_type": "code",
      "source": [
        "#Manipulating tensors\n",
        "\n",
        "tensor_1 = torch.tensor([[3,4],[5,6]])\n",
        "tensor_2 = torch.tensor([[3,4],[3,8]])\n",
        "print(tensor_1)\n",
        "print(tensor_2)"
      ],
      "metadata": {
        "colab": {
          "base_uri": "https://localhost:8080/"
        },
        "id": "0TuKqEgs3I5P",
        "outputId": "818d7275-868f-4d8c-dad6-96634b39e88e"
      },
      "execution_count": null,
      "outputs": [
        {
          "output_type": "stream",
          "name": "stdout",
          "text": [
            "tensor([[3, 4],\n",
            "        [5, 6]])\n",
            "tensor([[3, 4],\n",
            "        [3, 8]])\n"
          ]
        }
      ]
    },
    {
      "cell_type": "code",
      "source": [
        "#Addition and substraction\n",
        "print(tensor_1 + 10)\n",
        "print(tensor_1 - tensor_2)"
      ],
      "metadata": {
        "colab": {
          "base_uri": "https://localhost:8080/"
        },
        "id": "qe4kVAYx4pCc",
        "outputId": "7856c323-71a2-42c0-f915-a099c0e9ea84"
      },
      "execution_count": null,
      "outputs": [
        {
          "output_type": "stream",
          "name": "stdout",
          "text": [
            "tensor([[13, 14],\n",
            "        [15, 16]])\n",
            "tensor([[ 0,  0],\n",
            "        [ 2, -2]])\n"
          ]
        }
      ]
    },
    {
      "cell_type": "code",
      "source": [
        "#Multipication element wise\n",
        "torch.mul(tensor_1, tensor_2)"
      ],
      "metadata": {
        "colab": {
          "base_uri": "https://localhost:8080/"
        },
        "id": "-oS_hoGq4rOE",
        "outputId": "6c1ff5d2-26ae-4220-da50-0f9ce1817efc"
      },
      "execution_count": null,
      "outputs": [
        {
          "output_type": "execute_result",
          "data": {
            "text/plain": [
              "tensor([[ 9, 16],\n",
              "        [15, 48]])"
            ]
          },
          "metadata": {},
          "execution_count": 63
        }
      ]
    },
    {
      "cell_type": "code",
      "source": [
        "#Matrix Mul\n",
        "torch.matmul(tensor_1,tensor_2)"
      ],
      "metadata": {
        "colab": {
          "base_uri": "https://localhost:8080/"
        },
        "id": "GE8RBbEl5Yvz",
        "outputId": "7326bd62-fa39-46d1-edbd-538717f3f090"
      },
      "execution_count": null,
      "outputs": [
        {
          "output_type": "execute_result",
          "data": {
            "text/plain": [
              "tensor([[21, 44],\n",
              "        [33, 68]])"
            ]
          },
          "metadata": {},
          "execution_count": 64
        }
      ]
    },
    {
      "cell_type": "code",
      "source": [
        "#Tensor aggregation\n",
        "print(f\"max : {torch.max(tensor_1)}\")\n",
        "print(f\"min : {torch.min(tensor_1)}\")\n",
        "print(f\"mean : {torch.mean(tensor_1.type(torch.float32))}\") # since tensor mean is only supported in float and complex dtype"
      ],
      "metadata": {
        "colab": {
          "base_uri": "https://localhost:8080/"
        },
        "id": "5T25ONae5inD",
        "outputId": "6de4dbf7-1511-4523-ce92-1f49c935f400"
      },
      "execution_count": null,
      "outputs": [
        {
          "output_type": "stream",
          "name": "stdout",
          "text": [
            "max : 6\n",
            "min : 3\n",
            "mean : 4.5\n"
          ]
        }
      ]
    },
    {
      "cell_type": "code",
      "source": [
        "#position of max and min value\n",
        "tensor_1 = torch.rand(4,4)\n",
        "tensor_2 = torch.arange(0,21)\n",
        "print(tensor_1)\n",
        "print(tensor_2)\n",
        "print(f\"position of max in tensor_1 : {torch.argmax(tensor_1)}\")\n",
        "print(f\"position of min in tensor_1 : {torch.argmin(tensor_1)}\")\n",
        "print(f\"position of max in tensor_2 : {torch.argmax(tensor_2)}\")\n",
        "print(f\"position of min in tensor_2 : {torch.argmin(tensor_2)}\")\n"
      ],
      "metadata": {
        "colab": {
          "base_uri": "https://localhost:8080/"
        },
        "id": "TXUmo_WpA3Uz",
        "outputId": "b1794871-96a9-4bb3-932d-a79ba26cbefc"
      },
      "execution_count": null,
      "outputs": [
        {
          "output_type": "stream",
          "name": "stdout",
          "text": [
            "tensor([[0.2492, 0.8697, 0.1770, 0.9031],\n",
            "        [0.0536, 0.4586, 0.8182, 0.6189],\n",
            "        [0.8126, 0.9297, 0.6570, 0.5710],\n",
            "        [0.2513, 0.3423, 0.3751, 0.5748]])\n",
            "tensor([ 0,  1,  2,  3,  4,  5,  6,  7,  8,  9, 10, 11, 12, 13, 14, 15, 16, 17,\n",
            "        18, 19, 20])\n",
            "position of max in tensor_1 : 9\n",
            "position of min in tensor_1 : 4\n",
            "position of max in tensor_2 : 20\n",
            "position of min in tensor_2 : 0\n"
          ]
        }
      ]
    },
    {
      "cell_type": "code",
      "source": [
        "#Reshaping,stacking,squeezing\n",
        "print(tensor_1)\n",
        "print(tensor_1.reshape(8,2))\n",
        "print(torch.stack([tensor_1,tensor_1], dim = 0)) #dim = 1or0"
      ],
      "metadata": {
        "colab": {
          "base_uri": "https://localhost:8080/"
        },
        "id": "m34ic1JBBech",
        "outputId": "b190a497-8f1e-486b-b816-9e0d7a7adcf4"
      },
      "execution_count": null,
      "outputs": [
        {
          "output_type": "stream",
          "name": "stdout",
          "text": [
            "tensor([[0.2492, 0.8697, 0.1770, 0.9031],\n",
            "        [0.0536, 0.4586, 0.8182, 0.6189],\n",
            "        [0.8126, 0.9297, 0.6570, 0.5710],\n",
            "        [0.2513, 0.3423, 0.3751, 0.5748]])\n",
            "tensor([[0.2492, 0.8697],\n",
            "        [0.1770, 0.9031],\n",
            "        [0.0536, 0.4586],\n",
            "        [0.8182, 0.6189],\n",
            "        [0.8126, 0.9297],\n",
            "        [0.6570, 0.5710],\n",
            "        [0.2513, 0.3423],\n",
            "        [0.3751, 0.5748]])\n",
            "tensor([[[0.2492, 0.8697, 0.1770, 0.9031],\n",
            "         [0.0536, 0.4586, 0.8182, 0.6189],\n",
            "         [0.8126, 0.9297, 0.6570, 0.5710],\n",
            "         [0.2513, 0.3423, 0.3751, 0.5748]],\n",
            "\n",
            "        [[0.2492, 0.8697, 0.1770, 0.9031],\n",
            "         [0.0536, 0.4586, 0.8182, 0.6189],\n",
            "         [0.8126, 0.9297, 0.6570, 0.5710],\n",
            "         [0.2513, 0.3423, 0.3751, 0.5748]]])\n"
          ]
        }
      ]
    },
    {
      "cell_type": "code",
      "source": [
        "x = torch.zeros(2,1,2,1,2)\n",
        "y = torch.squeeze(x) #Squeezes input to remove all the dimenions with value 1.\n",
        "print(f\"previous shape : {x.shape}\")\n",
        "print(f\"new shape : {y.shape}\")"
      ],
      "metadata": {
        "colab": {
          "base_uri": "https://localhost:8080/"
        },
        "id": "cfn3auvMGlXw",
        "outputId": "f44d13fc-7324-4834-9abd-cf07d5dccaa8"
      },
      "execution_count": null,
      "outputs": [
        {
          "output_type": "stream",
          "name": "stdout",
          "text": [
            "previous shape : torch.Size([2, 1, 2, 1, 2])\n",
            "new shape : torch.Size([2, 2, 2])\n"
          ]
        }
      ]
    },
    {
      "cell_type": "code",
      "source": [
        "x = torch.zeros(2,2,2)\n",
        "y = torch.unsqueeze(x,0) #Returns input with a dimension value of 1 added at dim.\n",
        "print(f\"previous shape : {x.shape}\")\n",
        "print(f\"new shape : {y.shape}\")"
      ],
      "metadata": {
        "colab": {
          "base_uri": "https://localhost:8080/"
        },
        "id": "dpnpEgCkHGIw",
        "outputId": "1ab2694d-38af-4ba5-9818-23b2fb7d5b55"
      },
      "execution_count": null,
      "outputs": [
        {
          "output_type": "stream",
          "name": "stdout",
          "text": [
            "previous shape : torch.Size([2, 2, 2])\n",
            "new shape : torch.Size([1, 2, 2, 2])\n"
          ]
        }
      ]
    },
    {
      "cell_type": "code",
      "source": [],
      "metadata": {
        "id": "5CgEyU30KBTh"
      },
      "execution_count": null,
      "outputs": []
    }
  ]
}